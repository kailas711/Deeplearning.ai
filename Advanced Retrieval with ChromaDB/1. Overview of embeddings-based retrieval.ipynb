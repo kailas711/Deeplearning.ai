{
 "cells": [
  {
   "cell_type": "markdown",
   "id": "ec889d86-0d16-477f-8b7f-be03d73ad957",
   "metadata": {},
   "source": [
    "# Lab 1 - Overview of embeddings-based retrieval"
   ]
  },
  {
   "cell_type": "markdown",
   "id": "58ee2f53-d88b-4f00-94a2-75a66d4149e9",
   "metadata": {},
   "source": [
    "Welcome! Here's a few notes about the Chroma course notebooks.\n",
    " - A number of warnings pop up when running the notebooks. These are normal and can be ignored.\n",
    " - Some operations such as calling an LLM or an opeation using generated data return unpredictable results and so your notebook outputs may differ from the video.\n",
    "  \n",
    "Enjoy the course!"
   ]
  },
  {
   "cell_type": "code",
   "execution_count": 1,
   "id": "6aa4a853",
   "metadata": {},
   "outputs": [],
   "source": [
    "#!pip install pypdf\n",
    "#!pip install sentence-transformers\n",
    "#!pip install ollama"
   ]
  },
  {
   "cell_type": "code",
   "execution_count": 3,
   "id": "3748b16d-d4a7-49c3-a48a-57dcfc42acd6",
   "metadata": {
    "height": 166
   },
   "outputs": [
    {
     "name": "stdout",
     "output_type": "stream",
     "text": [
      "1 Dear shareholders, colleagues, customers, and partners:  \n",
      "We are living through a period of historic economic, societal, and geopolitical change. The world in 2022 looks nothing like \n",
      "the world in 2019. As I write this, inflation is at a 40 -year high, supply chains are stretched, and the war in U\n"
     ]
    }
   ],
   "source": [
    "from pypdf import PdfReader\n",
    "\n",
    "path = r\"D:\\\\Coding_Stuff\\\\GitHub\\\\DLAI\\\\Advanced Retrieval with ChromaDB\\\\2022_Annual_Report.pdf\"\n",
    "reader = PdfReader(path)\n",
    "pdf_texts = [p.extract_text().strip() for p in reader.pages]\n",
    "\n",
    "# Filter the empty strings\n",
    "pdf_texts = [text for text in pdf_texts if text]\n",
    "\n",
    "print(pdf_texts[0][:300])"
   ]
  },
  {
   "cell_type": "code",
   "execution_count": 4,
   "id": "888a86f8-2fe2-4682-bdaf-c15129ed1a32",
   "metadata": {
    "height": 166
   },
   "outputs": [
    {
     "name": "stdout",
     "output_type": "stream",
     "text": [
      "Windows Server, and revenue is reported along with the associated server product.  \n",
      "Nuance and GitHub include both cloud and on -premises offerings. Nuance provides healthcare and enterprise AI \n",
      "solutions. GitHub provides a collaboration platform and code hosting service for developers.  \n",
      "Enterprise Services  \n",
      "Enterprise Services, including Enterprise Support Services, Microsoft Consulting Services, and Nuance Professional \n",
      "Services, assist customers in developing, deploying, and managing Microsoft server solutions, Microsoft desktop \n",
      "solutions, and Nuance conversational AI and ambient intelligent solutions, along with providing training and certification to  \n",
      "developers and IT professionals on various Microsoft products.  \n",
      "Competition  \n",
      "Azure faces diverse competition from companies such as Amazon, Google, IBM, Oracle, VMware, and open source \n",
      "offerings. Our Enterprise Mobility + Security offerings also compete with products from a range of competitors including\n",
      "\n",
      "Total chunks: 347\n"
     ]
    }
   ],
   "source": [
    "from langchain.text_splitter import RecursiveCharacterTextSplitter, SentenceTransformersTokenTextSplitter\n",
    "\n",
    "# splitting into chunks\n",
    "character_splitter = RecursiveCharacterTextSplitter( \n",
    "    separators=[\"\\n\\n\", \"\\n\", \". \", \" \", \"\"], # sperators used , first \\n\\n then \\n then . etc\n",
    "    chunk_size=1000, # maximun number of characters in a chunk \n",
    "    chunk_overlap=0\n",
    ")\n",
    "character_split_texts = character_splitter.split_text('\\n\\n'.join(pdf_texts))\n",
    "\n",
    "print(character_split_texts[90]) # printing random chunk \n",
    "print(f\"\\nTotal chunks: {len(character_split_texts)}\")"
   ]
  },
  {
   "cell_type": "code",
   "execution_count": 5,
   "id": "5665c695-22ea-4264-b1ac-5ba720b6d78b",
   "metadata": {
    "height": 149
   },
   "outputs": [
    {
     "name": "stdout",
     "output_type": "stream",
     "text": [
      "increased, due in large part to significant global datacenter expansions and the growth in xbox sales and usage. despite these increases, we remain dedicated to achieving a net - zero future. we recognize that progress won ’ t always be linear, and the rate at which we can implement emissions reductions is dependent on many factors that can fluctuate over time. on the path to becoming water positive, we invested in 21 water replenishment projects that are expected to generate over 1. 3 million cubic meters of volumetric benefits in nine water basins around the world. progress toward our zero waste commitment included diverting more than 15, 200 metric tons of solid waste otherwise headed to landfills and incinerators, as well as launching new circular centers to increase reuse and reduce e - waste at our datacenters. we contracted to protect over 17, 000 acres of land ( 50 % more than the land we use to operate ), thus achieving our\n",
      "\n",
      "Total chunks: 349\n"
     ]
    }
   ],
   "source": [
    "import warnings\n",
    "warnings.filterwarnings('ignore')\n",
    "\n",
    "token_splitter = SentenceTransformersTokenTextSplitter(chunk_overlap=0, tokens_per_chunk=256)\n",
    "\n",
    "token_split_texts = []\n",
    "for text in character_split_texts:\n",
    "    token_split_texts += token_splitter.split_text(text)\n",
    "\n",
    "print(token_split_texts[10])\n",
    "print(f\"\\nTotal chunks: {len(token_split_texts)}\")"
   ]
  },
  {
   "cell_type": "code",
   "execution_count": 6,
   "id": "c2a13d14-4484-46f0-8e67-277337f9d138",
   "metadata": {
    "height": 98
   },
   "outputs": [
    {
     "name": "stdout",
     "output_type": "stream",
     "text": [
      "[[0.042562663555145264, 0.03321182355284691, 0.030340107157826424, -0.034866590052843094, 0.06841651350259781, -0.08090908825397491, -0.015474383719265461, -0.0014509352622553706, -0.016744472086429596, 0.06770770251750946, -0.05054137110710144, -0.04919538274407387, 0.05139993876218796, 0.09192726761102676, -0.07177837938070297, 0.03951967507600784, -0.01283353753387928, -0.024947477504611015, -0.046228617429733276, -0.024357546120882034, 0.03394966199994087, 0.025502420961856842, 0.02731713280081749, -0.004126240964978933, -0.03633835166692734, 0.003690901678055525, -0.027430450543761253, 0.004796717781573534, -0.028896238654851913, -0.018870694562792778, 0.03666628897190094, 0.02569584734737873, 0.03131282702088356, -0.06393436342477798, 0.05394405126571655, 0.08225347846746445, -0.041756849735975266, -0.006995786912739277, -0.023486044257879257, -0.030747946351766586, -0.0029792170971632004, -0.07790940254926682, 0.00935310684144497, 0.0031628680881112814, -0.022257015109062195, -0.018294665962457657, -0.009612440131604671, -0.03150685876607895, -0.005519665312021971, -0.032703034579753876, 0.1680297702550888, -0.047459688037633896, -0.05001682788133621, -0.0026596705429255962, -0.04104722663760185, -0.07003943622112274, 0.018295975401997566, -0.03143111616373062, -0.047411177307367325, -0.023663626983761787, 0.05944950878620148, -0.07201443612575531, 0.004945225082337856, -0.05532695725560188, 0.08745484054088593, 0.027872692793607712, -0.03977253660559654, 0.03452996164560318, -0.09992029517889023, 0.03289761394262314, -0.05780422315001488, 0.0024546529166400433, -0.027892334386706352, -0.04994705319404602, -0.04058248922228813, 0.011917483992874622, 0.020419029518961906, 0.07765398919582367, 0.06351623684167862, 0.017546892166137695, 0.02346094697713852, -0.007916618138551712, 0.01707421988248825, 0.008641211315989494, -0.06815340369939804, 0.03429616242647171, 0.0006464990437962115, 0.02273542806506157, 0.05279362201690674, -0.05857320874929428, -0.09784109890460968, -0.001471856259740889, 0.1373988837003708, 0.0020794684533029795, -0.07581517100334167, 0.057865746319293976, -0.06069638952612877, -0.06595754623413086, -0.03365056961774826, -0.03185925632715225, 0.012266594916582108, 0.09373299777507782, 0.06799507886171341, -0.08434036374092102, 0.044024758040905, -0.04263872280716896, 0.011163072660565376, 0.10505218058824539, 0.029505809769034386, -0.018521113321185112, -0.0296882726252079, -0.033770304173231125, 0.0014967146562412381, 0.03732369467616081, -0.020249705761671066, 0.05842079222202301, -0.03979162871837616, -0.021219676360487938, 0.006418139673769474, -0.010290156118571758, 0.019626125693321228, 0.0036796987988054752, -0.05031093209981918, -0.016897108405828476, 0.04854495823383331, 0.0668230652809143, 0.019536327570676804, 2.7227494430096778e-33, -0.03593408316373825, 0.015661882236599922, 0.09677654504776001, -0.00028516288148239255, -0.00976851861923933, -0.09068472683429718, 0.014486314728856087, 0.012590734288096428, 0.025435855612158775, -0.03443487361073494, 0.004262926988303661, 0.027121393010020256, -0.020409993827342987, 0.07688488811254501, 0.03572100028395653, -0.13492535054683685, 0.05657850578427315, 0.018364526331424713, 0.022577915340662003, -0.03589031100273132, -0.011456675827503204, -0.049938272684812546, -0.01601238362491131, -0.06335373222827911, 0.10463958978652954, -0.088016077876091, -0.004462327342480421, -0.010301054455339909, -0.017630761489272118, -0.02029227651655674, 0.006704189348965883, 0.0917234942317009, -0.007795048411935568, 0.005949392449110746, -0.015348861925303936, 0.018279554322361946, -0.018921488896012306, 0.039875276386737823, -0.0039673144929111, 0.03341927006840706, -0.0560772605240345, 0.07581257820129395, -0.005625526420772076, -0.054455265402793884, 0.0669843852519989, -0.025974396616220474, 0.11199560016393661, -0.036421410739421844, 0.005012587644159794, 0.03201000764966011, 0.049636904150247574, 0.09711594879627228, -0.11546945571899414, 0.06413276493549347, -0.03397880122065544, -0.0929156020283699, 0.049754798412323, -0.08613421022891998, -0.008366388268768787, -0.013703751377761364, -0.07882802188396454, 0.01965433731675148, -0.037150464951992035, 0.014476167969405651, -0.049403127282857895, 0.05349241569638252, 0.09139014035463333, 0.031002840027213097, 0.03028762899339199, 0.021342813968658447, -0.043937746435403824, -0.04297444224357605, -0.0022650870960205793, -0.021944092586636543, 0.0054746209643781185, -0.0102439159527421, 0.021677950397133827, -0.027323665097355843, -0.0007882551290094852, 0.03308918699622154, -0.007402367424219847, 0.009829996153712273, 0.01354409009218216, -0.032744813710451126, 0.05601910129189491, -0.06011649966239929, 0.031121989712119102, 0.03442241623997688, 0.026550501585006714, -0.006807961966842413, -0.011054198257625103, -0.014439890161156654, 0.022785374894738197, -0.027951980009675026, -0.01620897464454174, -3.689252285857286e-33, 0.029203690588474274, 0.04670487344264984, -0.04964412748813629, 0.06324489414691925, 0.028438031673431396, -0.022357137873768806, 0.03347986191511154, -0.018478723242878914, 0.018780110403895378, 0.002411682391539216, -0.0816783681511879, 0.10084163397550583, 0.04902312532067299, 0.036467328667640686, -0.04556042701005936, -0.0704919621348381, 0.025340434163808823, -0.03267942741513252, -0.04296495020389557, -0.07251020520925522, 0.04130713269114494, 0.05049723759293556, 0.006477158982306719, -0.0033249910920858383, -0.08235664665699005, 0.0800771564245224, -0.0346539132297039, 0.008470502682030201, 0.04138943925499916, -0.010147655382752419, -0.1028965637087822, 0.045671265572309494, 0.012796061113476753, -0.06017765402793884, -0.026627834886312485, -0.09725230932235718, 0.015798624604940414, 0.07219131290912628, -0.015325860120356083, 0.0018071264494210482, 0.06039534509181976, -0.07077641040086746, -0.02127874083817005, -0.03851625695824623, -0.05741112306714058, -0.004253807011991739, 0.03280766308307648, -0.01759563572704792, 0.049757663160562515, -0.00737902894616127, -0.008354580029845238, 0.043137844651937485, -0.054291583597660065, 0.043162133544683456, 0.023688582703471184, 0.018171582370996475, 0.09282208234071732, -0.0042229327373206615, -0.022514572367072105, 0.019288258627057076, -0.03684436157345772, 0.1001519113779068, 0.017764776945114136, 0.022849537432193756, -0.03967684507369995, 0.0016808495856821537, 0.050669241696596146, 0.0856492817401886, -0.02641354314982891, -0.03266865015029907, -0.036949578672647476, -0.02099405787885189, 0.017766080796718597, -0.07413068413734436, -0.024688158184289932, -0.03994891047477722, -0.024767983704805374, -0.024194080382585526, -0.01081644557416439, 0.010815993882715702, -0.030551733449101448, 0.10519371181726456, -0.008021757937967777, -0.03289627283811569, 0.14804388582706451, -0.07094291597604752, -0.050219107419252396, -0.15231890976428986, 0.022767439484596252, 0.13845957815647125, -0.0792330950498581, -0.041600994765758514, -0.09371676295995712, 0.06601831316947937, 0.04352037236094475, -4.9979703931057884e-08, -0.010548071935772896, 0.06008027493953705, 0.028823506087064743, 0.07072242349386215, 0.03157535195350647, -0.05913801118731499, 0.05488334596157074, 0.16316647827625275, 0.03475949168205261, 0.027875417843461037, 0.07126773148775101, -0.006946341600269079, -0.05290434509515762, 0.011619019322097301, -0.026834988966584206, 0.028954360634088516, 0.04344690218567848, -0.07012002915143967, -0.05879398435354233, -0.03921936824917793, -0.017293933779001236, -0.030054472386837006, -0.08112524449825287, -0.0450621098279953, 0.052496183663606644, -0.04923570901155472, 0.08052125573158264, 0.06585509330034256, -0.0006080729071982205, -0.04566409811377525, 0.030586982145905495, -0.0063860733062028885, -0.0317557230591774, 0.008228801190853119, 0.010760955512523651, 0.0010412478586658835, 0.01907869055867195, 0.03227986767888069, -0.014408738352358341, 0.035797931253910065, -0.0722818672657013, 0.033632971346378326, 0.006663578096777201, -0.018206244334578514, -0.020436283200979233, -0.002635376527905464, -0.1854771077632904, 0.012449312023818493, 0.02973131462931633, -0.03854849562048912, -0.009753359481692314, -0.01369432918727398, 0.009183338843286037, 0.08488919585943222, 0.12721875309944153, 0.05545998364686966, -0.049361661076545715, -0.011911999434232712, -0.056979261338710785, 0.1042008250951767, 0.057180698961019516, -0.10395052284002304, -0.023767836391925812, -0.027168985456228256]]\n"
     ]
    }
   ],
   "source": [
    "import chromadb\n",
    "from chromadb.utils.embedding_functions import SentenceTransformerEmbeddingFunction\n",
    "\n",
    "embedding_function = SentenceTransformerEmbeddingFunction()\n",
    "print(embedding_function([token_split_texts[10]]))"
   ]
  },
  {
   "cell_type": "code",
   "execution_count": 12,
   "id": "8ba6c8c5-9ce4-44d0-9223-6fdd77871f87",
   "metadata": {
    "height": 149
   },
   "outputs": [
    {
     "data": {
      "text/plain": [
       "166"
      ]
     },
     "execution_count": 12,
     "metadata": {},
     "output_type": "execute_result"
    }
   ],
   "source": [
    "chroma_client = chromadb.PersistentClient('Microsoft_Report')\n",
    "chroma_collection = chroma_client.create_collection(\"microsoft_annual_report_2022\", embedding_function=embedding_function,\n",
    "                                                   get_or_create=True)\n",
    "\n",
    "ids = [str(i) for i in range(len(token_split_texts[:166]))]\n",
    "\n",
    "chroma_collection.add(ids=ids, documents=token_split_texts[:166])\n",
    "chroma_collection.count()"
   ]
  },
  {
   "cell_type": "code",
   "execution_count": 13,
   "id": "bfdb54db-a442-423c-b006-c33a257cd7d7",
   "metadata": {
    "height": 149
   },
   "outputs": [
    {
     "name": "stdout",
     "output_type": "stream",
     "text": [
      "37 general and administrative expenses include payroll, employee benefits, stock - based compensation expense, and other headcount - related expenses associated with finance, legal, facilities, certain human resources and other administrative personnel, certain taxes, and legal and other administrative fees. general and administrative expenses increased $ 793 million or 16 % driven by investments in corporate functions. other income ( expense ), net the components of other income ( expense ), net were as follows : ( in millions ) year ended june 30, 2022 2021 interest and dividends income $ 2, 094 $ 2, 131 interest expense ( 2, 063 ) ( 2, 346 ) net recognized gains on investments 461 1, 232 net gains ( losses ) on derivatives ( 52 ) 17 net gains ( losses ) on foreign currency remeasurements ( 75 ) 54 other, net ( 32 ) 98 total $ 333 $ 1, 186\n",
      "\n",
      "\n",
      "( in millions, except percentages ) 2022 2021 percentage change sales and marketing $ 21, 825 $ 20, 117 8 % as a percent of revenue 11 % 12 % ( 1 ) ppt sales and marketing expenses include payroll, employee benefits, stock - based compensation expense, and other headcount - related expenses associated with sales and marketing personnel, and the costs of advertising, promotions, trade shows, seminars, and other programs. sales and marketing expenses increased $ 1. 7 billion or 8 % driven by investments in commercial sales and linkedin. sales and marketing included a favorable foreign currency impact of 2 %. general and administrative ( in millions, except percentages ) 2022 2021 percentage change general and administrative $ 5, 900 $ 5, 107 16 % as a percent of revenue 3 % 3 % 0ppt\n",
      "\n",
      "\n"
     ]
    }
   ],
   "source": [
    "query = \"What was the total revenue?\"\n",
    "\n",
    "results = chroma_collection.query(query_texts=[query], n_results=2)\n",
    "retrieved_documents = results['documents'][0]\n",
    "\n",
    "for document in retrieved_documents:\n",
    "    print(document)\n",
    "    print('\\n')"
   ]
  },
  {
   "cell_type": "code",
   "execution_count": 17,
   "id": "377a84aa-1d93-4e97-9b2d-d59c46355338",
   "metadata": {
    "height": 166
   },
   "outputs": [
    {
     "data": {
      "text/plain": [
       "ChatOllama(model='llama3:text')"
      ]
     },
     "execution_count": 17,
     "metadata": {},
     "output_type": "execute_result"
    }
   ],
   "source": [
    "# LangChain supports many other chat models. Here, we're using Ollama\n",
    "from langchain_community.chat_models import ChatOllama\n",
    "import ollama\n",
    "\n",
    "# supports many more optional parameters. Hover on your `ChatOllama(...)`\n",
    "# class to view the latest available supported parameters\n",
    "chat = ChatOllama(model=\"llama3:text\")\n",
    "chat"
   ]
  },
  {
   "cell_type": "code",
   "execution_count": 20,
   "id": "ba0ed8ca-6640-4c09-9cb3-9de5e7cf46dc",
   "metadata": {
    "height": 336
   },
   "outputs": [],
   "source": [
    "def rag(query, retrieved_documents):\n",
    "    information = \"\\n\\n\".join(retrieved_documents)\n",
    "\n",
    "    messages = [\n",
    "        {\n",
    "            \"role\": \"system\",\n",
    "            \"content\": \"You are a helpful expert financial research assistant. Your users are asking questions about information contained in an annual report.\"\n",
    "            \"You will be shown the user's question, and the relevant information from the annual report. Answer the user's question using only this information.\"\n",
    "        },\n",
    "        {\"role\": \"user\", \"content\": f\"Question: {query}. \\n Information: {information}\"}\n",
    "    ]\n",
    "    \n",
    "    response = ollama.chat(messages=messages, model=\"llama3:text\")\n",
    "    # response = chat(messages=messages)\n",
    "    content = response['message']['content']\n",
    "    return content"
   ]
  },
  {
   "cell_type": "code",
   "execution_count": 21,
   "id": "28bac3a2-0d29-48dc-9b48-2d9313239a25",
   "metadata": {
    "height": 64
   },
   "outputs": [
    {
     "name": "stdout",
     "output_type": "stream",
     "text": [
      " general and administrative expenses include payroll, employee benefits, stock - based compensation expense, and other headcount - related expenses associated with finance, legal, facilities, certain human resources and other administrative personnel, certain taxes, and legal and other administrative fees. general and administrative expenses increased $ 793 million or 16 % driven by investments in corporate functions.\n",
      "( in millions ) year ended june 30, 20xx 20yy 2022 2021 ( increase / decrease ) sales $ 198, 300 $ 195, 600 1 % revenue 197, 200 193, 900 2 % cost of sales ( 48, 400 ) ( 47, 000 ) 3% gross profit 148, 800 146, 900 1 % selling and marketing expenses ( 21, 825 ) ( 20, 117 ) 8 % general and administrative expenses ( 5, 900 ) ( 5, 107 ) 16 % research and development expenses ( 6, 600 ) ( 6, 700 ) ( -2% ) other income ( expense ), net 333 1, 186 ( ( 72 % ) ) interest and dividends income 2, 094 2, 131 ( ( 3 % ) ) interest expense ( 2, 063 ) ( 2, 346 ) ( ( 10 % ) ) recognized gains on investments 461 1, 232 ( ( 62 % ) ) gains ( losses ) on derivatives ( 52 ) 17 ( ( 405 % ) ) gains ( losses ) on foreign currency remeasurements ( 75 ) 54 ( ( 139 % ) ) other income ( expense ), net 333 1, 186 ( ( 72 % ) )\n",
      "\n"
     ]
    }
   ],
   "source": [
    "output = rag(query=query, retrieved_documents=retrieved_documents)\n",
    "\n",
    "print(output)"
   ]
  }
 ],
 "metadata": {
  "kernelspec": {
   "display_name": "Python 3 (ipykernel)",
   "language": "python",
   "name": "python3"
  },
  "language_info": {
   "codemirror_mode": {
    "name": "ipython",
    "version": 3
   },
   "file_extension": ".py",
   "mimetype": "text/x-python",
   "name": "python",
   "nbconvert_exporter": "python",
   "pygments_lexer": "ipython3",
   "version": "3.10.0"
  }
 },
 "nbformat": 4,
 "nbformat_minor": 5
}

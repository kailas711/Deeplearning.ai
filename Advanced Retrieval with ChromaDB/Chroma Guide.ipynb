{
 "cells": [
  {
   "cell_type": "markdown",
   "metadata": {},
   "source": [
    "# Chroma DB Tests\n",
    "\n",
    "You can configure Chroma to save and load from your local machine. Data will be persisted automatically and loaded on start (if it exists)."
   ]
  },
  {
   "cell_type": "code",
   "execution_count": 4,
   "metadata": {},
   "outputs": [
    {
     "data": {
      "text/plain": [
       "1711129986311719300"
      ]
     },
     "execution_count": 4,
     "metadata": {},
     "output_type": "execute_result"
    }
   ],
   "source": [
    "import chromadb\n",
    "\n",
    "client = chromadb.PersistentClient(path=\"playDB\")\n",
    "\n",
    "client.heartbeat() # returns a nanosecond heartbeat. Useful for making sure the client remains connected."
   ]
  },
  {
   "cell_type": "markdown",
   "metadata": {},
   "source": [
    "The embedding function takes text as input, and performs tokenization and embedding. If no embedding function is supplied, Chroma will use sentence transformer as a default.\n",
    "\n",
    "Existing collections can be retrieved by name with `.get_collection`, and deleted with `.delete_collection`. You can also use .`get_or_create_collection` to get a collection if it exists, or create it if it doesn't."
   ]
  },
  {
   "cell_type": "code",
   "execution_count": 23,
   "metadata": {},
   "outputs": [],
   "source": [
    "if \"my_collection\" == client.list_collections()[0].name:\n",
    "    collection = client.get_collection(name=\"my_collection\")\n",
    "else:\n",
    "    collection = client.create_collection(name=\"my_collection\")\n",
    "    collection = client.get_or_create_collection(name=\"my_collection\")"
   ]
  },
  {
   "cell_type": "code",
   "execution_count": 25,
   "metadata": {},
   "outputs": [],
   "source": [
    "collection.peek() # returns a list of the first 10 items in the collection\n",
    "collection.count() # returns the number of items in the collection\n",
    "collection.modify(name=\"new_name\") # Rename the collection"
   ]
  },
  {
   "cell_type": "code",
   "execution_count": 26,
   "metadata": {},
   "outputs": [],
   "source": [
    "collection = client.create_collection(\n",
    "        name=\"collection_name\",\n",
    "        metadata={\"hnsw:space\": \"cosine\"} # l2 (squared L2) is the default it can be \"ip\" (inner prodcut) or cosine\n",
    "    )"
   ]
  },
  {
   "cell_type": "markdown",
   "metadata": {},
   "source": [
    "### Adding data \n",
    "\n",
    "If Chroma is passed a list of `documents`, it will automatically tokenize and embed them with the collection's embedding function . Chroma will also store the `documents` themselves. if too large exception would be raised.\n",
    "\n",
    "you can supply a list of document-associated `embeddings` directly,"
   ]
  },
  {
   "cell_type": "code",
   "execution_count": 31,
   "metadata": {},
   "outputs": [
    {
     "name": "stderr",
     "output_type": "stream",
     "text": [
      "Add of existing embedding ID: id1\n",
      "Add of existing embedding ID: id2\n",
      "Add of existing embedding ID: id3\n",
      "Insert of existing embedding ID: id1\n",
      "Insert of existing embedding ID: id2\n",
      "Insert of existing embedding ID: id3\n"
     ]
    }
   ],
   "source": [
    "collection.add(\n",
    "    documents=[\"tiger is a animal\", \"cat is close family of tiger\", \"dogs are wolves\"],\n",
    "    # embeddings=[[1.1, 2.3, 3.2], [4.5, 6.9, 4.4], [1.1, 2.3, 3.2]],\n",
    "    metadatas=[{\"wild\":1}, {\"domestic\":2}, {\"kinda cute\":3}],\n",
    "    ids=[\"id1\", \"id2\", \"id3\"]\n",
    ")"
   ]
  },
  {
   "cell_type": "markdown",
   "metadata": {},
   "source": [
    "Trying to `.add` the same ID twice will result in only the initial value being stored. An optional list of `metadata` dictionaries can be supplied for each document.\n",
    "\n",
    "**You can also store documents elsewhere, and just supply a list of embeddings and metadata to Chroma**\n",
    "\n",
    "### Querying a Collection "
   ]
  },
  {
   "cell_type": "code",
   "execution_count": 34,
   "metadata": {},
   "outputs": [
    {
     "data": {
      "text/plain": [
       "{'ids': [['id1']],\n",
       " 'distances': [[0.14945050916109792]],\n",
       " 'metadatas': [[{'wild': 1}]],\n",
       " 'embeddings': None,\n",
       " 'documents': [['tiger is a animal']],\n",
       " 'uris': None,\n",
       " 'data': None}"
      ]
     },
     "execution_count": 34,
     "metadata": {},
     "output_type": "execute_result"
    }
   ],
   "source": [
    "collection.query(\n",
    "    query_texts=\"tiger\",\n",
    "    # query_embeddings=[[11.1, 12.1, 13.1],[1.1, 2.3, 3.2], ...],\n",
    "    n_results=1,\n",
    "    # where={\"wild\": 1},\n",
    "    # where_document={\"$contains\":\"search_string\"}\n",
    ")"
   ]
  },
  {
   "cell_type": "markdown",
   "metadata": {},
   "source": [
    "### Using Where filters\n",
    "\n",
    "Chroma supports filtering queries by metadata and document contents. The where filter is used to filter by metadata, and the where_document filter is used to filter by document contents.\n",
    "\n",
    "https://docs.trychroma.com/usage-guide#using-where-filters\n",
    "\n",
    "\n",
    "### Updating data in a collection\n",
    "\n",
    "If an `id` is not found in the `collection`, an error will be logged and the update will be ignored. Embeddings are recomputed."
   ]
  },
  {
   "cell_type": "code",
   "execution_count": 40,
   "metadata": {},
   "outputs": [],
   "source": [
    "collection.update(\n",
    "    ids=[\"id1\"],\n",
    "    # embeddings=[[1.1, 2.3, 3.2], [4.5, 6.9, 4.4], [1.1, 2.3, 3.2], ...],\n",
    "    # metadatas=[{\"chapter\": \"3\", \"verse\": \"16\"}, {\"chapter\": \"3\", \"verse\": \"5\"}],\n",
    "    documents=[\"doc1\"],\n",
    ")"
   ]
  },
  {
   "cell_type": "markdown",
   "metadata": {},
   "source": [
    "Chroma also supports an `upsert` operation, which updates existing items, or adds them if they don't yet exist."
   ]
  },
  {
   "cell_type": "code",
   "execution_count": 41,
   "metadata": {},
   "outputs": [],
   "source": [
    "collection.upsert(\n",
    "    ids=[\"id4\"],\n",
    "    # embeddings=[[1.1, 2.3, 3.2], [4.5, 6.9, 4.4], [1.1, 2.3, 3.2], ...],\n",
    "    # metadatas=[{\"chapter\": \"3\", \"verse\": \"16\"}, {\"chapter\": \"3\", \"verse\": \"5\"}, {\"chapter\": \"29\", \"verse\": \"11\"}, ...],\n",
    "    documents=[\"fish in the bowl\"],\n",
    ")"
   ]
  },
  {
   "cell_type": "markdown",
   "metadata": {},
   "source": [
    "### Deleting data from a collection\n",
    "\n",
    "Chroma supports deleting items from a collection by `id` using `.delete`. The `embeddings`, `documents`, and `metadata` associated with each item will be deleted. "
   ]
  },
  {
   "cell_type": "code",
   "execution_count": 42,
   "metadata": {},
   "outputs": [],
   "source": [
    "collection.delete(\n",
    "    ids=[\"id1\"],\n",
    "    # where={\"chapter\": \"20\"}\n",
    ")"
   ]
  }
 ],
 "metadata": {
  "kernelspec": {
   "display_name": "Python 3",
   "language": "python",
   "name": "python3"
  },
  "language_info": {
   "codemirror_mode": {
    "name": "ipython",
    "version": 3
   },
   "file_extension": ".py",
   "mimetype": "text/x-python",
   "name": "python",
   "nbconvert_exporter": "python",
   "pygments_lexer": "ipython3",
   "version": "3.10.0"
  }
 },
 "nbformat": 4,
 "nbformat_minor": 2
}

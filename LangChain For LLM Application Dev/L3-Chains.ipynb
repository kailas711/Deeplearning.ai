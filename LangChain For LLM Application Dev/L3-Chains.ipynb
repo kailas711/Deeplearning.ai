{
 "cells": [
  {
   "cell_type": "markdown",
   "id": "52824b89-532a-4e54-87e9-1410813cd39e",
   "metadata": {},
   "source": [
    "# Chains in LangChain\n",
    "\n",
    "## Outline\n",
    "\n",
    "* LLMChain\n",
    "* Sequential Chains\n",
    "  * SimpleSequentialChain\n",
    "  * SequentialChain\n",
    "* Router Chain"
   ]
  },
  {
   "cell_type": "markdown",
   "id": "b940ce7c",
   "metadata": {},
   "source": [
    "## LLMChain"
   ]
  },
  {
   "cell_type": "code",
   "execution_count": 11,
   "id": "5e540340",
   "metadata": {},
   "outputs": [
    {
     "data": {
      "text/plain": [
       "{'models': [{'name': 'gemma:2b-instruct',\n",
       "   'model': 'gemma:2b-instruct',\n",
       "   'modified_at': '2024-03-22T10:57:30.1963517+05:30',\n",
       "   'size': 1678456656,\n",
       "   'digest': 'b50d6c999e592ae4f79acae23b4feaefbdfceaa7cd366df2610e3072c052a160',\n",
       "   'details': {'parent_model': '',\n",
       "    'format': 'gguf',\n",
       "    'family': 'gemma',\n",
       "    'families': ['gemma'],\n",
       "    'parameter_size': '3B',\n",
       "    'quantization_level': 'Q4_0'}}]}"
      ]
     },
     "execution_count": 11,
     "metadata": {},
     "output_type": "execute_result"
    }
   ],
   "source": [
    "import ollama\n",
    "ollama.list()"
   ]
  },
  {
   "cell_type": "code",
   "execution_count": 17,
   "id": "e92dff22",
   "metadata": {
    "tags": []
   },
   "outputs": [],
   "source": [
    "from langchain_community.chat_models import ChatOllama\n",
    "from langchain.prompts import ChatPromptTemplate\n",
    "from langchain.chains import LLMChain"
   ]
  },
  {
   "cell_type": "code",
   "execution_count": 18,
   "id": "943237a7",
   "metadata": {
    "tags": []
   },
   "outputs": [],
   "source": [
    "llm = ChatOllama(model=\"gemma:2b-instruct\")"
   ]
  },
  {
   "cell_type": "code",
   "execution_count": 22,
   "id": "cdcdb42d",
   "metadata": {
    "tags": []
   },
   "outputs": [],
   "source": [
    "prompt = ChatPromptTemplate.from_template(\n",
    "    \"Create a catchy ad in one line for \\\n",
    "    a company that makes {product}?\"\n",
    ")"
   ]
  },
  {
   "cell_type": "code",
   "execution_count": 23,
   "id": "d7abc20b",
   "metadata": {
    "tags": []
   },
   "outputs": [],
   "source": [
    "chain = LLMChain(llm=llm, prompt=prompt)"
   ]
  },
  {
   "cell_type": "code",
   "execution_count": 25,
   "id": "ad44d1fb",
   "metadata": {
    "tags": []
   },
   "outputs": [
    {
     "name": "stdout",
     "output_type": "stream",
     "text": [
      "Sure, here's a catchy ad for the Queen Size Sheet Set company:\n",
      "\n",
      "**Sleep like royalty, without the hassle of finding the perfect fit.**\n"
     ]
    }
   ],
   "source": [
    "product = \"Queen Size Sheet Set\"\n",
    "print(chain.run(product))"
   ]
  },
  {
   "cell_type": "markdown",
   "id": "69b03469",
   "metadata": {},
   "source": [
    "## SimpleSequentialChain"
   ]
  },
  {
   "cell_type": "code",
   "execution_count": 29,
   "id": "febee243",
   "metadata": {
    "tags": []
   },
   "outputs": [],
   "source": [
    "from langchain.chains import SimpleSequentialChain"
   ]
  },
  {
   "cell_type": "code",
   "execution_count": 30,
   "id": "2f31aa8a",
   "metadata": {
    "tags": []
   },
   "outputs": [],
   "source": [
    "llm = ChatOllama(model=\"gemma:2b-instruct\")\n",
    "\n",
    "# prompt template 1\n",
    "first_prompt = ChatPromptTemplate.from_template(\n",
    "    \"What is the best name to describe \\\n",
    "    a company that makes {product}?\"\n",
    ")\n",
    "\n",
    "# Chain 1\n",
    "chain_one = LLMChain(llm=llm, prompt=first_prompt)"
   ]
  },
  {
   "cell_type": "code",
   "execution_count": 31,
   "id": "3f5d5b76",
   "metadata": {
    "tags": []
   },
   "outputs": [],
   "source": [
    "# prompt template 2\n",
    "second_prompt = ChatPromptTemplate.from_template(\n",
    "    \"Write a 20 words description for the following \\\n",
    "    company:{company_name}\"\n",
    ")\n",
    "# chain 2\n",
    "chain_two = LLMChain(llm=llm, prompt=second_prompt)"
   ]
  },
  {
   "cell_type": "code",
   "execution_count": 34,
   "id": "6c1eb2c4",
   "metadata": {
    "tags": []
   },
   "outputs": [],
   "source": [
    "overall_simple_chain = SimpleSequentialChain(chains=[chain_one, chain_two],\n",
    "                                             verbose=False)"
   ]
  },
  {
   "cell_type": "code",
   "execution_count": 36,
   "id": "78458efe",
   "metadata": {
    "tags": []
   },
   "outputs": [
    {
     "name": "stdout",
     "output_type": "stream",
     "text": [
      "Sure, here's a 20 words description of the companies you provided:\n",
      "\n",
      "1. The Empress Collection\n",
      "2. The Royal Bedding Boutique\n",
      "3. The Queen's Nook\n",
      "4. The Pillow Palace\n",
      "5. The Sleep Goddess\n",
      "6. The Sleeping Queen\n",
      "7. The Royal Silk Suite\n",
      "8. The Sovereign Sheet Company\n",
      "9. The Majestic Mattress\n"
     ]
    }
   ],
   "source": [
    "print(overall_simple_chain.run(product))"
   ]
  },
  {
   "cell_type": "markdown",
   "id": "7b5ce18c",
   "metadata": {},
   "source": [
    "## SequentialChain"
   ]
  },
  {
   "cell_type": "code",
   "execution_count": 47,
   "id": "4c129ef6",
   "metadata": {
    "tags": []
   },
   "outputs": [],
   "source": [
    "from langchain.chains import SequentialChain"
   ]
  },
  {
   "cell_type": "code",
   "execution_count": 55,
   "id": "016187ac",
   "metadata": {
    "tags": []
   },
   "outputs": [],
   "source": [
    "llm = ChatOllama(temperature=0.9, model='gemma:2b-instruct')\n",
    "\n",
    "# prompt template 1: translate to english\n",
    "first_prompt = ChatPromptTemplate.from_template(\n",
    "    \"Summarize the content in the news article:\"\n",
    "    \"\\n\\n{content}\"\n",
    ")\n",
    "# chain 1: input= Review and output= English_Review\n",
    "chain_one = LLMChain(llm=llm, prompt=first_prompt, \n",
    "                     output_key=\"News\"\n",
    "                    )\n"
   ]
  },
  {
   "cell_type": "code",
   "execution_count": 56,
   "id": "0fb0730e",
   "metadata": {
    "tags": []
   },
   "outputs": [],
   "source": [
    "second_prompt = ChatPromptTemplate.from_template(\n",
    "    \"why is the refinery refusing oil? from whom?\"\n",
    "    \"\\n\\n{News}\"\n",
    ")\n",
    "# chain 2: input= English_Review and output= summary\n",
    "chain_two = LLMChain(llm=llm, prompt=second_prompt, \n",
    "                     output_key=\"answer\"\n",
    "                    )\n"
   ]
  },
  {
   "cell_type": "code",
   "execution_count": 57,
   "id": "6accf92d",
   "metadata": {
    "tags": []
   },
   "outputs": [],
   "source": [
    "# prompt template 3: translate to english\n",
    "third_prompt = ChatPromptTemplate.from_template(\n",
    "    \"What language is the following review:\\n\\n{answer}\"\n",
    ")\n",
    "# chain 3: input= Review and output= language\n",
    "chain_three = LLMChain(llm=llm, prompt=third_prompt,\n",
    "                       output_key=\"language\"\n",
    "                      )\n"
   ]
  },
  {
   "cell_type": "code",
   "execution_count": 58,
   "id": "c7a46121",
   "metadata": {
    "tags": []
   },
   "outputs": [],
   "source": [
    "\n",
    "# prompt template 4: follow up message\n",
    "fourth_prompt = ChatPromptTemplate.from_template(\n",
    "    \"Using the news extract answer the questions and translate the news too:\"\n",
    "    \"\\n\\n answers: {answer}\\n\\nLanguage: {language}\"\n",
    ")\n",
    "# chain 4: input= summary, language and output= followup_message\n",
    "chain_four = LLMChain(llm=llm, prompt=fourth_prompt,\n",
    "                      output_key=\"followup_message\"\n",
    "                     )\n"
   ]
  },
  {
   "cell_type": "code",
   "execution_count": 60,
   "id": "89603117",
   "metadata": {
    "tags": []
   },
   "outputs": [],
   "source": [
    "# overall_chain: input= Review \n",
    "# and output= English_Review,summary, followup_message\n",
    "overall_chain = SequentialChain(\n",
    "    chains=[chain_one, chain_two, chain_three, chain_four],\n",
    "    input_variables=[\"content\"],\n",
    "    output_variables=[\"answer\", \"language\",\"followup_message\"],\n",
    "    verbose=False\n",
    ")"
   ]
  },
  {
   "cell_type": "code",
   "execution_count": 61,
   "id": "51b04f45",
   "metadata": {
    "tags": []
   },
   "outputs": [
    {
     "name": "stderr",
     "output_type": "stream",
     "text": [
      "c:\\Users\\kaila\\DLAI\\lib\\site-packages\\langchain_core\\_api\\deprecation.py:117: LangChainDeprecationWarning: The function `__call__` was deprecated in LangChain 0.1.0 and will be removed in 0.2.0. Use invoke instead.\n",
      "  warn_deprecated(\n"
     ]
    },
    {
     "data": {
      "text/plain": [
       "{'content': 'All of India’s refiners are now refusing to take Russian crude carried on PJSC Sovcomflot tankers due to US sanctions, further complicating the trade that has flourished since the invasion of Ukraine two years ago.\\nPrivate and state-run processors including the biggest — Indian Oil Corp. — have stopped taking cargoes if they’re on Sovcomflot tankers, said people familiar with the matter. Refiners are scrutinizing the ownership of each ship to make sure they’re not affiliated with the company, or other sanctioned groups, they added, asking not to be named because the information is private.',\n",
       " 'answer': \"The news article explains that all of India's refiners have refused to take Russian crude carried on PJSC Sovcomflot tankers due to the US sanctions.\",\n",
       " 'language': 'The language of the review is English. It is a news article about a topic related to India and Russia, and the review is written in English.',\n",
       " 'followup_message': \"**Questions:**\\n\\n1. What is the main topic of the news article?\\n2. Who are the people affected by the news?\\n3. What is the reason for the refinery's refusal?\\n4. What is the significance of the news for India?\\n\\n**Answers:**\\n\\n1. The main topic of the news article is India's refiners refusing to take Russian crude carried on PJSC Sovcomflot tankers due to the US sanctions.\\n2. The people affected by the news are all refiners in India who are using PJSC Sovcomflot tankers to import crude oil from Russia.\\n3. The reason for the refinery's refusal is the US sanctions on Russia, which prohibit the importation of Russian crude oil.\\n4. The significance of the news for India is that it highlights the potential impact of the US sanctions on the country's energy security and supply chain. It also raises concerns about the broader impact of these sanctions on the global oil market.\"}"
      ]
     },
     "execution_count": 61,
     "metadata": {},
     "output_type": "execute_result"
    }
   ],
   "source": [
    "content = \"\"\"All of India’s refiners are now refusing to take Russian crude carried on PJSC Sovcomflot tankers due to US sanctions, further complicating the trade that has flourished since the invasion of Ukraine two years ago.\n",
    "Private and state-run processors including the biggest — Indian Oil Corp. — have stopped taking cargoes if they’re on Sovcomflot tankers, said people familiar with the matter. Refiners are scrutinizing the ownership of each ship to make sure they’re not affiliated with the company, or other sanctioned groups, they added, asking not to be named because the information is private.\"\"\"\n",
    "overall_chain.invoke(content)"
   ]
  },
  {
   "cell_type": "markdown",
   "id": "3041ea4c",
   "metadata": {},
   "source": [
    "## Router Chain"
   ]
  },
  {
   "cell_type": "code",
   "execution_count": 8,
   "id": "ade83f4f",
   "metadata": {
    "tags": []
   },
   "outputs": [],
   "source": [
    "physics_template = \"\"\"You are a very smart physics professor. \\\n",
    "You are great at answering questions about physics in a concise\\\n",
    "and easy to understand manner. \\\n",
    "When you don't know the answer to a question you admit\\\n",
    "that you don't know.\n",
    "\n",
    "Here is a question:\n",
    "{input}\"\"\"\n",
    "\n",
    "\n",
    "math_template = \"\"\"You are a very good mathematician. \\\n",
    "You are great at answering math questions. \\\n",
    "You are so good because you are able to break down \\\n",
    "hard problems into their component parts, \n",
    "answer the component parts, and then put them together\\\n",
    "to answer the broader question.\n",
    "\n",
    "Here is a question:\n",
    "{input}\"\"\"\n",
    "\n",
    "history_template = \"\"\"You are a very good historian. \\\n",
    "You have an excellent knowledge of and understanding of people,\\\n",
    "events and contexts from a range of historical periods. \\\n",
    "You have the ability to think, reflect, debate, discuss and \\\n",
    "evaluate the past. You have a respect for historical evidence\\\n",
    "and the ability to make use of it to support your explanations \\\n",
    "and judgements.\n",
    "\n",
    "Here is a question:\n",
    "{input}\"\"\"\n",
    "\n",
    "\n",
    "computerscience_template = \"\"\" You are a successful computer scientist.\\\n",
    "You have a passion for creativity, collaboration,\\\n",
    "forward-thinking, confidence, strong problem-solving capabilities,\\\n",
    "understanding of theories and algorithms, and excellent communication \\\n",
    "skills. You are great at answering coding questions. \\\n",
    "You are so good because you know how to solve a problem by \\\n",
    "describing the solution in imperative steps \\\n",
    "that a machine can easily interpret and you know how to \\\n",
    "choose a solution that has a good balance between \\\n",
    "time complexity and space complexity. \n",
    "\n",
    "Here is a question:\n",
    "{input}\"\"\""
   ]
  },
  {
   "cell_type": "code",
   "execution_count": 9,
   "id": "5f590e9f",
   "metadata": {
    "tags": []
   },
   "outputs": [],
   "source": [
    "prompt_infos = [\n",
    "    {\n",
    "        \"name\": \"physics\", \n",
    "        \"description\": \"Good for answering questions about physics\", \n",
    "        \"prompt_template\": physics_template\n",
    "    },\n",
    "    {\n",
    "        \"name\": \"math\", \n",
    "        \"description\": \"Good for answering math questions\", \n",
    "        \"prompt_template\": math_template\n",
    "    },\n",
    "    {\n",
    "        \"name\": \"History\", \n",
    "        \"description\": \"Good for answering history questions\", \n",
    "        \"prompt_template\": history_template\n",
    "    },\n",
    "    {\n",
    "        \"name\": \"computer science\", \n",
    "        \"description\": \"Good for answering computer science questions\", \n",
    "        \"prompt_template\": computerscience_template\n",
    "    }\n",
    "]"
   ]
  },
  {
   "cell_type": "code",
   "execution_count": 11,
   "id": "31b06fc8",
   "metadata": {
    "tags": []
   },
   "outputs": [],
   "source": [
    "from langchain.chains.router import MultiPromptChain\n",
    "from langchain_community.chat_models import ChatOllama\n",
    "from langchain.chains.router.llm_router import LLMRouterChain,RouterOutputParser\n",
    "from langchain.prompts import PromptTemplate\n",
    "from langchain_community.chat_models import ChatOllama\n",
    "from langchain.prompts import ChatPromptTemplate\n",
    "from langchain.chains import LLMChain"
   ]
  },
  {
   "cell_type": "code",
   "execution_count": 12,
   "id": "49ad5cff",
   "metadata": {},
   "outputs": [
    {
     "data": {
      "text/plain": [
       "{'models': [{'name': 'mistral-openorca:latest',\n",
       "   'model': 'mistral-openorca:latest',\n",
       "   'modified_at': '2024-03-24T22:54:42.2695876+05:30',\n",
       "   'size': 4108928254,\n",
       "   'digest': '12dc6acc14d0c4d3309e035cac6ff83e64c023aa774b21c41e342982699f436c',\n",
       "   'details': {'parent_model': '',\n",
       "    'format': 'gguf',\n",
       "    'family': 'llama',\n",
       "    'families': None,\n",
       "    'parameter_size': '7B',\n",
       "    'quantization_level': 'Q4_0'}},\n",
       "  {'name': 'phi:latest',\n",
       "   'model': 'phi:latest',\n",
       "   'modified_at': '2024-03-24T22:34:59.1783023+05:30',\n",
       "   'size': 1602463378,\n",
       "   'digest': 'e2fd6321a5fe6bb3ac8a4e6f1cf04477fd2dea2924cf53237a995387e152ee9c',\n",
       "   'details': {'parent_model': '',\n",
       "    'format': 'gguf',\n",
       "    'family': 'phi2',\n",
       "    'families': ['phi2'],\n",
       "    'parameter_size': '3B',\n",
       "    'quantization_level': 'Q4_0'}}]}"
      ]
     },
     "execution_count": 12,
     "metadata": {},
     "output_type": "execute_result"
    }
   ],
   "source": [
    "import ollama\n",
    "ollama.list()"
   ]
  },
  {
   "cell_type": "code",
   "execution_count": 13,
   "id": "f3f50bcc",
   "metadata": {
    "tags": []
   },
   "outputs": [],
   "source": [
    "llm = ChatOllama(temperature=0, model='mistral-openorca:latest')"
   ]
  },
  {
   "cell_type": "code",
   "execution_count": 14,
   "id": "8eefec24",
   "metadata": {
    "tags": []
   },
   "outputs": [],
   "source": [
    "destination_chains = {}\n",
    "for p_info in prompt_infos:\n",
    "    name = p_info[\"name\"]\n",
    "    prompt_template = p_info[\"prompt_template\"]\n",
    "    prompt = ChatPromptTemplate.from_template(template=prompt_template)\n",
    "    chain = LLMChain(llm=llm, prompt=prompt)\n",
    "    destination_chains[name] = chain  \n",
    "    \n",
    "destinations = [f\"{p['name']}: {p['description']}\" for p in prompt_infos]\n",
    "destinations_str = \"\\n\".join(destinations)"
   ]
  },
  {
   "cell_type": "code",
   "execution_count": 15,
   "id": "8808d4c7",
   "metadata": {},
   "outputs": [
    {
     "data": {
      "text/plain": [
       "{'physics': LLMChain(prompt=ChatPromptTemplate(input_variables=['input'], messages=[HumanMessagePromptTemplate(prompt=PromptTemplate(input_variables=['input'], template=\"You are a very smart physics professor. You are great at answering questions about physics in a conciseand easy to understand manner. When you don't know the answer to a question you admitthat you don't know.\\n\\nHere is a question:\\n{input}\"))]), llm=ChatOllama(model='mistral-openorca:latest', temperature=0.0)),\n",
       " 'math': LLMChain(prompt=ChatPromptTemplate(input_variables=['input'], messages=[HumanMessagePromptTemplate(prompt=PromptTemplate(input_variables=['input'], template='You are a very good mathematician. You are great at answering math questions. You are so good because you are able to break down hard problems into their component parts, \\nanswer the component parts, and then put them togetherto answer the broader question.\\n\\nHere is a question:\\n{input}'))]), llm=ChatOllama(model='mistral-openorca:latest', temperature=0.0)),\n",
       " 'History': LLMChain(prompt=ChatPromptTemplate(input_variables=['input'], messages=[HumanMessagePromptTemplate(prompt=PromptTemplate(input_variables=['input'], template='You are a very good historian. You have an excellent knowledge of and understanding of people,events and contexts from a range of historical periods. You have the ability to think, reflect, debate, discuss and evaluate the past. You have a respect for historical evidenceand the ability to make use of it to support your explanations and judgements.\\n\\nHere is a question:\\n{input}'))]), llm=ChatOllama(model='mistral-openorca:latest', temperature=0.0)),\n",
       " 'computer science': LLMChain(prompt=ChatPromptTemplate(input_variables=['input'], messages=[HumanMessagePromptTemplate(prompt=PromptTemplate(input_variables=['input'], template=' You are a successful computer scientist.You have a passion for creativity, collaboration,forward-thinking, confidence, strong problem-solving capabilities,understanding of theories and algorithms, and excellent communication skills. You are great at answering coding questions. You are so good because you know how to solve a problem by describing the solution in imperative steps that a machine can easily interpret and you know how to choose a solution that has a good balance between time complexity and space complexity. \\n\\nHere is a question:\\n{input}'))]), llm=ChatOllama(model='mistral-openorca:latest', temperature=0.0))}"
      ]
     },
     "execution_count": 15,
     "metadata": {},
     "output_type": "execute_result"
    }
   ],
   "source": [
    "destination_chains"
   ]
  },
  {
   "cell_type": "code",
   "execution_count": 16,
   "id": "9f98018a",
   "metadata": {
    "tags": []
   },
   "outputs": [],
   "source": [
    "default_prompt = ChatPromptTemplate.from_template(\"{input}\")\n",
    "default_chain = LLMChain(llm=llm, prompt=default_prompt)"
   ]
  },
  {
   "cell_type": "code",
   "execution_count": 17,
   "id": "11b2e2ba",
   "metadata": {
    "tags": []
   },
   "outputs": [],
   "source": [
    "MULTI_PROMPT_ROUTER_TEMPLATE = \"\"\"Given a raw text input to a \\\n",
    "language model select the model prompt best suited for the input. \\\n",
    "You will be given the names of the available prompts and a \\\n",
    "description of what the prompt is best suited for. \\\n",
    "You may also revise the original input if you think that revising\\\n",
    "it will ultimately lead to a better response from the language model.\n",
    "\n",
    "<< FORMATTING >>\n",
    "Return a markdown code snippet with a JSON object formatted to look like:\n",
    "```json\n",
    "{{{{\n",
    "    \"destination\": string \\ name of the prompt to use or \"DEFAULT\"\n",
    "    \"next_inputs\": string \\ a potentially modified version of the original input\n",
    "}}}}\n",
    "```\n",
    "\n",
    "REMEMBER: \"destination\" MUST be one of the candidate prompt \\\n",
    "names specified below OR it can be \"DEFAULT\" if the input is not\\\n",
    "well suited for any of the candidate prompts.\n",
    "REMEMBER: \"next_inputs\" can just be the original input \\\n",
    "if you don't think any modifications are needed.\n",
    "\n",
    "<< CANDIDATE PROMPTS >>\n",
    "{destinations}\n",
    "\n",
    "<< INPUT >>\n",
    "{{input}}\n",
    "\n",
    "<< OUTPUT (remember to include the ```json)>>\"\"\""
   ]
  },
  {
   "cell_type": "code",
   "execution_count": 18,
   "id": "1387109d",
   "metadata": {
    "tags": []
   },
   "outputs": [],
   "source": [
    "router_template = MULTI_PROMPT_ROUTER_TEMPLATE.format(\n",
    "    destinations=destinations_str\n",
    ")\n",
    "router_prompt = PromptTemplate(\n",
    "    template=router_template,\n",
    "    input_variables=[\"input\"],\n",
    "    output_parser=RouterOutputParser(),\n",
    ")\n",
    "\n",
    "router_chain = LLMRouterChain.from_llm(llm, router_prompt)"
   ]
  },
  {
   "cell_type": "code",
   "execution_count": 19,
   "id": "2fb7d560",
   "metadata": {
    "tags": []
   },
   "outputs": [],
   "source": [
    "chain = MultiPromptChain(router_chain=router_chain, \n",
    "                         destination_chains=destination_chains, \n",
    "                         default_chain=default_chain, verbose=True\n",
    "                        )"
   ]
  },
  {
   "cell_type": "code",
   "execution_count": 20,
   "id": "d86b2131",
   "metadata": {
    "tags": []
   },
   "outputs": [
    {
     "name": "stderr",
     "output_type": "stream",
     "text": [
      "c:\\Users\\kaila\\DLAI\\lib\\site-packages\\langchain_core\\_api\\deprecation.py:117: LangChainDeprecationWarning: The function `run` was deprecated in LangChain 0.1.0 and will be removed in 0.2.0. Use invoke instead.\n",
      "  warn_deprecated(\n"
     ]
    },
    {
     "name": "stdout",
     "output_type": "stream",
     "text": [
      "\n",
      "\n",
      "\u001b[1m> Entering new MultiPromptChain chain...\u001b[0m\n",
      "physics: {'input': 'What is black body radiation?'}\n",
      "\u001b[1m> Finished chain.\u001b[0m\n"
     ]
    },
    {
     "data": {
      "text/plain": [
       "' Black body radiation, also known as thermal radiation, is the electromagnetic radiation emitted by a black body, which is an idealized object that absorbs all the incoming radiation and does not reflect or transmit any. The temperature of a black body determines the wavelengths at which it emits the most energy. At higher temperatures, it emits more short-wavelength (high-frequency) radiation, such as visible light, ultraviolet, and X-rays. At lower temperatures, it emits longer-wavelength (lower-frequency) radiation, such as infrared and radio waves. The spectrum of black body radiation is described by the Planck distribution law, which relates the intensity of radiation to wavelength and temperature.<|im_end|>'"
      ]
     },
     "execution_count": 20,
     "metadata": {},
     "output_type": "execute_result"
    }
   ],
   "source": [
    "chain.invoke(\"What is black body radiation?\")"
   ]
  },
  {
   "cell_type": "code",
   "execution_count": 89,
   "id": "3b717379",
   "metadata": {
    "tags": []
   },
   "outputs": [
    {
     "name": "stdout",
     "output_type": "stream",
     "text": [
      "\n",
      "\n",
      "\u001b[1m> Entering new MultiPromptChain chain...\u001b[0m\n",
      "math: {'input': ''}\n",
      "\u001b[1m> Finished chain.\u001b[0m\n"
     ]
    },
    {
     "data": {
      "text/plain": [
       "\" Thank you for your kind words! I'll do my best to help you with your math question. Here it is:\\n\\nFind the derivative of the function f(x) = x^3 * sin(x).\\n\\nTo find the derivative of this function, we can use the sum rule and the product rule of differentiation. The sum rule states that if we have two functions g(x) and h(x), then the derivative of their sum is the sum of their derivatives: (g(x) + h(x))'.\\n\\nThe product rule states that if we have a function p(x) = u(x) * v(x), where u(x) and v(x) are differentiable functions, then the derivative of p(x) is given by:\\n\\np'(x) = u'(x) * v(x) + u(x) * v'(x)\\n\\nNow let's apply these rules to find the derivative of f(x) = x^3 * sin(x):\\n\\nFirst, we identify the two functions in our product: u(x) = x^3 and v(x) = sin(x).\\n\\nNext, we find the derivatives of each function:\\n\\nu'(x) = 3x^2\\nv'(x) = cos(x)\\n\\nNow we can apply the product rule to find the derivative of our original function:\\n\\nf'(x) = u'(x) * v(x) + u(x) * v'(x)\\n= (3x^2) * sin(x) + x^3 * cos(x)\\n\\nSo, the derivative of f(x) = x^3 * sin(x) is:\\n\\nf'(x) = 3x^2 * sin(x) + x^3 * cos(x)\""
      ]
     },
     "execution_count": 89,
     "metadata": {},
     "output_type": "execute_result"
    }
   ],
   "source": [
    "chain.invoke(\"what is 2 + 2\")"
   ]
  },
  {
   "cell_type": "code",
   "execution_count": 90,
   "id": "29e5be01",
   "metadata": {
    "tags": []
   },
   "outputs": [
    {
     "name": "stdout",
     "output_type": "stream",
     "text": [
      "\n",
      "\n",
      "\u001b[1m> Entering new MultiPromptChain chain...\u001b[0m\n",
      "physics: {'input': 'Which country produces the most oil in the world?'}\n",
      "\u001b[1m> Finished chain.\u001b[0m\n"
     ]
    },
    {
     "data": {
      "text/plain": [
       "\" The United States produces the most oil in the world as of 2021. According to the U.S. Energy Information Administration, the U.S. surpassed Saudi Arabia and Russia in crude oil production in 2018. This trend has continued due to advancements in drilling technologies such as hydraulic fracturing (fracking) and horizontal drilling. However, it's important to note that rankings can change based on various factors, so always check the most recent data for accurate information.\""
      ]
     },
     "execution_count": 90,
     "metadata": {},
     "output_type": "execute_result"
    }
   ],
   "source": [
    "chain.invoke(\"Who is the larget procuder of oil in the world\")"
   ]
  },
  {
   "cell_type": "markdown",
   "id": "069f0121-cf7b-464d-bb3d-6357719188ed",
   "metadata": {},
   "source": [
    "Reminder: Download your notebook to you local computer to save your work."
   ]
  }
 ],
 "metadata": {
  "kernelspec": {
   "display_name": "Python 3",
   "language": "python",
   "name": "python3"
  },
  "language_info": {
   "codemirror_mode": {
    "name": "ipython",
    "version": 3
   },
   "file_extension": ".py",
   "mimetype": "text/x-python",
   "name": "python",
   "nbconvert_exporter": "python",
   "pygments_lexer": "ipython3",
   "version": "3.10.10"
  }
 },
 "nbformat": 4,
 "nbformat_minor": 5
}
